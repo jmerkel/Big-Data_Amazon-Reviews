{
  "nbformat": 4,
  "nbformat_minor": 0,
  "metadata": {
    "colab": {
      "name": "jmerkel_Module16_Challenge_ETL.ipynb",
      "provenance": [],
      "collapsed_sections": []
    },
    "kernelspec": {
      "name": "python3",
      "display_name": "Python 3"
    }
  },
  "cells": [
    {
      "cell_type": "code",
      "metadata": {
        "id": "fdSRshsS2B6M",
        "colab_type": "code",
        "colab": {}
      },
      "source": [
        "# Install Java, Spark, and Findspark\n",
        "!apt-get install openjdk-8-jdk-headless -qq > /dev/null\n",
        "!wget -q http://www-us.apache.org/dist/spark/spark-2.4.4/spark-2.4.4-bin-hadoop2.7.tgz\n",
        "!tar xf spark-2.4.4-bin-hadoop2.7.tgz\n",
        "!pip install -q findspark\n",
        "# Set Environment Variables\n",
        "import os\n",
        "os.environ[\"JAVA_HOME\"] = \"/usr/lib/jvm/java-8-openjdk-amd64\"\n",
        "os.environ[\"SPARK_HOME\"] = \"/content/spark-2.4.4-bin-hadoop2.7\"\n",
        "# Start a SparkSession\n",
        "import findspark\n",
        "findspark.init()"
      ],
      "execution_count": 0,
      "outputs": []
    },
    {
      "cell_type": "code",
      "metadata": {
        "id": "QUVpoQlr2b59",
        "colab_type": "code",
        "outputId": "bbf3e205-1012-4c5f-9bb5-c128314f0fe9",
        "colab": {
          "base_uri": "https://localhost:8080/",
          "height": 204
        }
      },
      "source": [
        "!wget https://jdbc.postgresql.org/download/postgresql-42.2.9.jar"
      ],
      "execution_count": 0,
      "outputs": [
        {
          "output_type": "stream",
          "text": [
            "--2020-02-02 20:34:52--  https://jdbc.postgresql.org/download/postgresql-42.2.9.jar\n",
            "Resolving jdbc.postgresql.org (jdbc.postgresql.org)... 72.32.157.228, 2001:4800:3e1:1::228\n",
            "Connecting to jdbc.postgresql.org (jdbc.postgresql.org)|72.32.157.228|:443... connected.\n",
            "HTTP request sent, awaiting response... 200 OK\n",
            "Length: 914037 (893K) [application/java-archive]\n",
            "Saving to: ‘postgresql-42.2.9.jar.4’\n",
            "\n",
            "postgresql-42.2.9.j 100%[===================>] 892.61K  1.41MB/s    in 0.6s    \n",
            "\n",
            "2020-02-02 20:34:53 (1.41 MB/s) - ‘postgresql-42.2.9.jar.4’ saved [914037/914037]\n",
            "\n"
          ],
          "name": "stdout"
        }
      ]
    },
    {
      "cell_type": "code",
      "metadata": {
        "id": "UB0ytoaS2f5u",
        "colab_type": "code",
        "colab": {}
      },
      "source": [
        "from pyspark.sql import SparkSession\n",
        "spark = SparkSession.builder.appName(\"BigDataMod16Challenge\").config(\"spark.driver.extraClassPath\",\"/content/postgresql-42.2.9.jar\").getOrCreate()"
      ],
      "execution_count": 0,
      "outputs": []
    },
    {
      "cell_type": "markdown",
      "metadata": {
        "id": "r_gpBUZLHcuz",
        "colab_type": "text"
      },
      "source": [
        "# Extract"
      ]
    },
    {
      "cell_type": "code",
      "metadata": {
        "id": "xCrYuMFc2mVk",
        "colab_type": "code",
        "colab": {}
      },
      "source": [
        "# Read in data from S3 Buckets\n",
        "from pyspark import SparkFiles\n",
        "url =\"https://s3.amazonaws.com/amazon-reviews-pds/tsv/amazon_reviews_us_Sports_v1_00.tsv.gz\"\n",
        "spark.sparkContext.addFile(url)\n",
        "review_data_df = spark.read.csv(SparkFiles.get(\"amazon_reviews_us_Sports_v1_00.tsv.gz\"), sep=\"\\t\", header=True)"
      ],
      "execution_count": 0,
      "outputs": []
    },
    {
      "cell_type": "code",
      "metadata": {
        "id": "h1cfjAJN92W6",
        "colab_type": "code",
        "outputId": "24f7ce94-8efd-483a-ecfe-88b6201ffb23",
        "colab": {
          "base_uri": "https://localhost:8080/",
          "height": 598
        }
      },
      "source": [
        "# Show DataFrame\n",
        "review_data_df.show(10)\n",
        "review_data_df.head()\n",
        "review_data_df.printSchema()"
      ],
      "execution_count": 0,
      "outputs": [
        {
          "output_type": "stream",
          "text": [
            "+-----------+-----------+--------------+----------+--------------+--------------------+----------------+-----------+-------------+-----------+----+-----------------+--------------------+--------------------+-----------+\n",
            "|marketplace|customer_id|     review_id|product_id|product_parent|       product_title|product_category|star_rating|helpful_votes|total_votes|vine|verified_purchase|     review_headline|         review_body|review_date|\n",
            "+-----------+-----------+--------------+----------+--------------+--------------------+----------------+-----------+-------------+-----------+----+-----------------+--------------------+--------------------+-----------+\n",
            "|         US|   48945260|R1WBPB8MDCCN8F|B012P7UPSM|     409940130|Chicago Blackhawk...|          Sports|          5|            0|          0|   N|                N|   LOVE IT. 6 stars!|Bought this last ...| 2015-08-31|\n",
            "|         US|    5782091|R32M0YEWV77XG8|B001GQ3VHG|     657746679|Copag Poker Size ...|          Sports|          5|            1|          1|   N|                Y|       Shipped fast.|These are the bes...| 2015-08-31|\n",
            "|         US|   45813853| RR8V7WR27NXJ5|B008VS8M58|     962442336|Baoer 223 5.56x45...|          Sports|          1|            0|          0|   N|                Y|Good idea if it w...|It looks good, th...| 2015-08-31|\n",
            "|         US|    1593730|R1MHO5V9Z932AY|B005F06F4U|      74305227|All Terrain Tackl...|          Sports|          5|            0|          0|   N|                Y|          Five Stars|           Great jig| 2015-08-31|\n",
            "|         US|   29605511|R16PD71086BD2V|B010T4IE2C|     787185588|Swim Cap - 3 Pack...|          Sports|          5|            0|          1|   N|                N|Great quality sil...|I love swimming i...| 2015-08-31|\n",
            "|         US|   11112959|R1Z8IFGWTRWXT6|B004RKJGLS|      94127483|adidas Men's Spor...|          Sports|          3|            0|          0|   N|                Y|Love everything a...|Love everything a...| 2015-08-31|\n",
            "|         US|     108031|R3AUMSHAW73HWN|B005V3DCBU|     526977496|Nike Men's Perfor...|          Sports|          4|            2|          3|   N|                N|          Four Stars|not the best sock...| 2015-08-31|\n",
            "|         US|   13981540|R2KWDWFOHGX6FL|B00MHT9WN8|      26521265|Green Bay Packers...|          Sports|          5|            0|          0|   N|                Y|          Five Stars|             Love it| 2015-08-31|\n",
            "|         US|   37993909|R3H9543FWBWFBU|B001CSIRQ8|     652431165|Isokinetics Inc. ...|          Sports|          5|            1|          1|   N|                Y|can't wait to use it|Unfortunately I h...| 2015-08-31|\n",
            "|         US|   26040213| RUANXOQ9W3OU5|B001KZ3NOO|     635861713|Aottop Quality El...|          Sports|          5|            0|          0|   N|                Y|great product, ac...|fast shipping , g...| 2015-08-31|\n",
            "+-----------+-----------+--------------+----------+--------------+--------------------+----------------+-----------+-------------+-----------+----+-----------------+--------------------+--------------------+-----------+\n",
            "only showing top 10 rows\n",
            "\n",
            "root\n",
            " |-- marketplace: string (nullable = true)\n",
            " |-- customer_id: string (nullable = true)\n",
            " |-- review_id: string (nullable = true)\n",
            " |-- product_id: string (nullable = true)\n",
            " |-- product_parent: string (nullable = true)\n",
            " |-- product_title: string (nullable = true)\n",
            " |-- product_category: string (nullable = true)\n",
            " |-- star_rating: string (nullable = true)\n",
            " |-- helpful_votes: string (nullable = true)\n",
            " |-- total_votes: string (nullable = true)\n",
            " |-- vine: string (nullable = true)\n",
            " |-- verified_purchase: string (nullable = true)\n",
            " |-- review_headline: string (nullable = true)\n",
            " |-- review_body: string (nullable = true)\n",
            " |-- review_date: string (nullable = true)\n",
            "\n"
          ],
          "name": "stdout"
        }
      ]
    },
    {
      "cell_type": "markdown",
      "metadata": {
        "id": "o7xUVRRU_LRU",
        "colab_type": "text"
      },
      "source": [
        "## Count the number of records\n",
        "\n",
        "---\n",
        "\n",
        "\n",
        "\n",
        "---\n",
        "\n"
      ]
    },
    {
      "cell_type": "code",
      "metadata": {
        "id": "U4FnIKSl_ZHi",
        "colab_type": "code",
        "outputId": "13a2de31-7412-4ccc-ebb2-9bb1789c5b0b",
        "colab": {
          "base_uri": "https://localhost:8080/",
          "height": 34
        }
      },
      "source": [
        "review_data_df.count()"
      ],
      "execution_count": 0,
      "outputs": [
        {
          "output_type": "execute_result",
          "data": {
            "text/plain": [
              "4850360"
            ]
          },
          "metadata": {
            "tags": []
          },
          "execution_count": 31
        }
      ]
    },
    {
      "cell_type": "markdown",
      "metadata": {
        "id": "sNtDVydC_-kC",
        "colab_type": "text"
      },
      "source": [
        "## There are 4850360 records in the raw sports review dataset\n",
        "\n",
        "---\n",
        "\n",
        "\n",
        "\n",
        "---"
      ]
    },
    {
      "cell_type": "markdown",
      "metadata": {
        "id": "NaNi83-tHgqx",
        "colab_type": "text"
      },
      "source": [
        "# TRANSFORM"
      ]
    },
    {
      "cell_type": "code",
      "metadata": {
        "id": "wA60BPvm_-Oy",
        "colab_type": "code",
        "outputId": "1ac61d3b-2bfa-419a-a14a-0e67a1a7bf08",
        "colab": {
          "base_uri": "https://localhost:8080/",
          "height": 479
        }
      },
      "source": [
        "#Drop null Values\n",
        "dropna_df = review_data_df.dropna()\n",
        "dropna_df.show()"
      ],
      "execution_count": 0,
      "outputs": [
        {
          "output_type": "stream",
          "text": [
            "+-----------+-----------+--------------+----------+--------------+--------------------+----------------+-----------+-------------+-----------+----+-----------------+--------------------+--------------------+-----------+\n",
            "|marketplace|customer_id|     review_id|product_id|product_parent|       product_title|product_category|star_rating|helpful_votes|total_votes|vine|verified_purchase|     review_headline|         review_body|review_date|\n",
            "+-----------+-----------+--------------+----------+--------------+--------------------+----------------+-----------+-------------+-----------+----+-----------------+--------------------+--------------------+-----------+\n",
            "|         US|   48945260|R1WBPB8MDCCN8F|B012P7UPSM|     409940130|Chicago Blackhawk...|          Sports|          5|            0|          0|   N|                N|   LOVE IT. 6 stars!|Bought this last ...| 2015-08-31|\n",
            "|         US|    5782091|R32M0YEWV77XG8|B001GQ3VHG|     657746679|Copag Poker Size ...|          Sports|          5|            1|          1|   N|                Y|       Shipped fast.|These are the bes...| 2015-08-31|\n",
            "|         US|   45813853| RR8V7WR27NXJ5|B008VS8M58|     962442336|Baoer 223 5.56x45...|          Sports|          1|            0|          0|   N|                Y|Good idea if it w...|It looks good, th...| 2015-08-31|\n",
            "|         US|    1593730|R1MHO5V9Z932AY|B005F06F4U|      74305227|All Terrain Tackl...|          Sports|          5|            0|          0|   N|                Y|          Five Stars|           Great jig| 2015-08-31|\n",
            "|         US|   29605511|R16PD71086BD2V|B010T4IE2C|     787185588|Swim Cap - 3 Pack...|          Sports|          5|            0|          1|   N|                N|Great quality sil...|I love swimming i...| 2015-08-31|\n",
            "|         US|   11112959|R1Z8IFGWTRWXT6|B004RKJGLS|      94127483|adidas Men's Spor...|          Sports|          3|            0|          0|   N|                Y|Love everything a...|Love everything a...| 2015-08-31|\n",
            "|         US|     108031|R3AUMSHAW73HWN|B005V3DCBU|     526977496|Nike Men's Perfor...|          Sports|          4|            2|          3|   N|                N|          Four Stars|not the best sock...| 2015-08-31|\n",
            "|         US|   13981540|R2KWDWFOHGX6FL|B00MHT9WN8|      26521265|Green Bay Packers...|          Sports|          5|            0|          0|   N|                Y|          Five Stars|             Love it| 2015-08-31|\n",
            "|         US|   37993909|R3H9543FWBWFBU|B001CSIRQ8|     652431165|Isokinetics Inc. ...|          Sports|          5|            1|          1|   N|                Y|can't wait to use it|Unfortunately I h...| 2015-08-31|\n",
            "|         US|   26040213| RUANXOQ9W3OU5|B001KZ3NOO|     635861713|Aottop Quality El...|          Sports|          5|            0|          0|   N|                Y|great product, ac...|fast shipping , g...| 2015-08-31|\n",
            "|         US|   34657602|R31673RTGEZSW7|B00005RCQS|      72099763|Everlast 2'x6' Fo...|          Sports|          5|            2|          2|   N|                Y|this mat is a pre...|If you have a ter...| 2015-08-31|\n",
            "|         US|   14346192|R22OQLFSH42RCM|B00FA7RWVI|     757354022|OGIO Men's Shredd...|          Sports|          5|            1|          1|   N|                Y|  Versatile Golf Bag|Love this golf ba...| 2015-08-31|\n",
            "|         US|   38782687|R12LEL4F3TSZUJ|B000MMH2HU|     272402599|Blue Sea Systems ...|          Sports|          5|            2|          2|   N|                Y|Great AC Main Bre...|Perfect mounting ...| 2015-08-31|\n",
            "|         US|   27138575|R2L9XWD03072NI|B00WJOATDS|     375070208|Zengi AR15 45 Deg...|          Sports|          5|            1|          2|   N|                Y|   Nice, some quirks|For the cost you ...| 2015-08-31|\n",
            "|         US|   11838771|R2K0U91HIACANO|B00BOM2JNY|     639666785|Black Mountain Pr...|          Sports|          5|            0|          0|   N|                N|55 cm - Good qual...|The ball is very ...| 2015-08-31|\n",
            "|         US|     535800|R29SP6MBT7MXG7|B00OD5GAFM|      38715442|Trijicon VCOG 1-6...|          Sports|          4|            3|          3|   N|                Y|    Very nice scope.|Very nice scope.....| 2015-08-31|\n",
            "|         US|   23156579|R31XREAAMATEPY|B00CAHDC1K|      57088652|Naruto Headband f...|          Sports|          5|            0|          0|   N|                Y|was for my son an...|           This item| 2015-08-31|\n",
            "|         US|   48107879|R2116AVB87SO38|B004NLHXLG|     114125984|Under Armour Men'...|          Sports|          5|            0|          0|   N|                Y|          Five Stars|greatest socks i ...| 2015-08-31|\n",
            "|         US|   27260960|R3RDVBB6O0X3HW|B00L7OANWI|     883962979|Yes4All Deep Tiss...|          Sports|          5|            0|          0|   N|                Y|          Five Stars|Perfect for home ...| 2015-08-31|\n",
            "|         US|   39537314|R3LW5T149LKKQM|B0085PPSIQ|     691479969|Lansky PS-MED01 B...|          Sports|          4|            0|          0|   N|                Y|A bit heavy for p...|Very good product...| 2015-08-31|\n",
            "+-----------+-----------+--------------+----------+--------------+--------------------+----------------+-----------+-------------+-----------+----+-----------------+--------------------+--------------------+-----------+\n",
            "only showing top 20 rows\n",
            "\n"
          ],
          "name": "stdout"
        }
      ]
    },
    {
      "cell_type": "code",
      "metadata": {
        "id": "WBATojQvG03z",
        "colab_type": "code",
        "outputId": "f1b105b2-acce-4772-c439-055bef1f4fd4",
        "colab": {
          "base_uri": "https://localhost:8080/",
          "height": 34
        }
      },
      "source": [
        "dropna_df.count()"
      ],
      "execution_count": 0,
      "outputs": [
        {
          "output_type": "execute_result",
          "data": {
            "text/plain": [
              "4848999"
            ]
          },
          "metadata": {
            "tags": []
          },
          "execution_count": 33
        }
      ]
    },
    {
      "cell_type": "markdown",
      "metadata": {
        "id": "R5r0_STnHGUg",
        "colab_type": "text"
      },
      "source": [
        "## There are 4848999 records remaining after droping NULL reviews"
      ]
    },
    {
      "cell_type": "code",
      "metadata": {
        "id": "C2eJ6ztV9IlM",
        "colab_type": "code",
        "colab": {}
      },
      "source": [
        "#Load in a sql function to use columns\n",
        "from pyspark.sql.functions import col\n",
        "from pyspark.sql.types import IntegerType, DateType"
      ],
      "execution_count": 0,
      "outputs": []
    },
    {
      "cell_type": "code",
      "metadata": {
        "id": "h2Dnh1rwCIqQ",
        "colab_type": "code",
        "outputId": "4d0035c2-8fe3-4bf7-e4c5-6fb9925d6215",
        "colab": {
          "base_uri": "https://localhost:8080/",
          "height": 578
        }
      },
      "source": [
        "# Create Review-ID Table\n",
        "reviewID_df = dropna_df.select([\"review_id\", \"customer_id\", \"product_id\", \"product_parent\", \"review_date\"])\n",
        "reviewID_df.show()\n",
        "reviewID_df.printSchema()"
      ],
      "execution_count": 0,
      "outputs": [
        {
          "output_type": "stream",
          "text": [
            "+--------------+-----------+----------+--------------+-----------+\n",
            "|     review_id|customer_id|product_id|product_parent|review_date|\n",
            "+--------------+-----------+----------+--------------+-----------+\n",
            "|R1WBPB8MDCCN8F|   48945260|B012P7UPSM|     409940130| 2015-08-31|\n",
            "|R32M0YEWV77XG8|    5782091|B001GQ3VHG|     657746679| 2015-08-31|\n",
            "| RR8V7WR27NXJ5|   45813853|B008VS8M58|     962442336| 2015-08-31|\n",
            "|R1MHO5V9Z932AY|    1593730|B005F06F4U|      74305227| 2015-08-31|\n",
            "|R16PD71086BD2V|   29605511|B010T4IE2C|     787185588| 2015-08-31|\n",
            "|R1Z8IFGWTRWXT6|   11112959|B004RKJGLS|      94127483| 2015-08-31|\n",
            "|R3AUMSHAW73HWN|     108031|B005V3DCBU|     526977496| 2015-08-31|\n",
            "|R2KWDWFOHGX6FL|   13981540|B00MHT9WN8|      26521265| 2015-08-31|\n",
            "|R3H9543FWBWFBU|   37993909|B001CSIRQ8|     652431165| 2015-08-31|\n",
            "| RUANXOQ9W3OU5|   26040213|B001KZ3NOO|     635861713| 2015-08-31|\n",
            "|R31673RTGEZSW7|   34657602|B00005RCQS|      72099763| 2015-08-31|\n",
            "|R22OQLFSH42RCM|   14346192|B00FA7RWVI|     757354022| 2015-08-31|\n",
            "|R12LEL4F3TSZUJ|   38782687|B000MMH2HU|     272402599| 2015-08-31|\n",
            "|R2L9XWD03072NI|   27138575|B00WJOATDS|     375070208| 2015-08-31|\n",
            "|R2K0U91HIACANO|   11838771|B00BOM2JNY|     639666785| 2015-08-31|\n",
            "|R29SP6MBT7MXG7|     535800|B00OD5GAFM|      38715442| 2015-08-31|\n",
            "|R31XREAAMATEPY|   23156579|B00CAHDC1K|      57088652| 2015-08-31|\n",
            "|R2116AVB87SO38|   48107879|B004NLHXLG|     114125984| 2015-08-31|\n",
            "|R3RDVBB6O0X3HW|   27260960|B00L7OANWI|     883962979| 2015-08-31|\n",
            "|R3LW5T149LKKQM|   39537314|B0085PPSIQ|     691479969| 2015-08-31|\n",
            "+--------------+-----------+----------+--------------+-----------+\n",
            "only showing top 20 rows\n",
            "\n",
            "root\n",
            " |-- review_id: string (nullable = true)\n",
            " |-- customer_id: string (nullable = true)\n",
            " |-- product_id: string (nullable = true)\n",
            " |-- product_parent: string (nullable = true)\n",
            " |-- review_date: string (nullable = true)\n",
            "\n"
          ],
          "name": "stdout"
        }
      ]
    },
    {
      "cell_type": "code",
      "metadata": {
        "id": "lYzNxmjrF6B7",
        "colab_type": "code",
        "outputId": "235998d5-f617-4358-fd8e-cb4afe2aacb3",
        "colab": {
          "base_uri": "https://localhost:8080/",
          "height": 578
        }
      },
      "source": [
        "reviewID_df_tmp1 = reviewID_df.select([\"review_id\", \"customer_id\", \"product_id\", \"product_parent\", \"review_date\"])\\\n",
        ".withColumn(\"customer_id\", reviewID_df[\"customer_id\"].cast(IntegerType()))\n",
        "\n",
        "reviewID_df_tmp2 = reviewID_df_tmp1.select([\"review_id\", \"customer_id\", \"product_id\", \"product_parent\", \"review_date\"])\\\n",
        ".withColumn(\"product_parent\", reviewID_df[\"product_parent\"].cast(IntegerType()))\n",
        "\n",
        "reviewID_clean_df = reviewID_df_tmp2.select([\"review_id\", \"customer_id\", \"product_id\", \"product_parent\", \"review_date\"])\\\n",
        ".withColumn(\"review_date\", reviewID_df[\"review_date\"].cast(DateType()))\n",
        "reviewID_clean_df.printSchema()\n",
        "reviewID_clean_df.show()"
      ],
      "execution_count": 0,
      "outputs": [
        {
          "output_type": "stream",
          "text": [
            "root\n",
            " |-- review_id: string (nullable = true)\n",
            " |-- customer_id: integer (nullable = true)\n",
            " |-- product_id: string (nullable = true)\n",
            " |-- product_parent: integer (nullable = true)\n",
            " |-- review_date: date (nullable = true)\n",
            "\n",
            "+--------------+-----------+----------+--------------+-----------+\n",
            "|     review_id|customer_id|product_id|product_parent|review_date|\n",
            "+--------------+-----------+----------+--------------+-----------+\n",
            "|R1WBPB8MDCCN8F|   48945260|B012P7UPSM|     409940130| 2015-08-31|\n",
            "|R32M0YEWV77XG8|    5782091|B001GQ3VHG|     657746679| 2015-08-31|\n",
            "| RR8V7WR27NXJ5|   45813853|B008VS8M58|     962442336| 2015-08-31|\n",
            "|R1MHO5V9Z932AY|    1593730|B005F06F4U|      74305227| 2015-08-31|\n",
            "|R16PD71086BD2V|   29605511|B010T4IE2C|     787185588| 2015-08-31|\n",
            "|R1Z8IFGWTRWXT6|   11112959|B004RKJGLS|      94127483| 2015-08-31|\n",
            "|R3AUMSHAW73HWN|     108031|B005V3DCBU|     526977496| 2015-08-31|\n",
            "|R2KWDWFOHGX6FL|   13981540|B00MHT9WN8|      26521265| 2015-08-31|\n",
            "|R3H9543FWBWFBU|   37993909|B001CSIRQ8|     652431165| 2015-08-31|\n",
            "| RUANXOQ9W3OU5|   26040213|B001KZ3NOO|     635861713| 2015-08-31|\n",
            "|R31673RTGEZSW7|   34657602|B00005RCQS|      72099763| 2015-08-31|\n",
            "|R22OQLFSH42RCM|   14346192|B00FA7RWVI|     757354022| 2015-08-31|\n",
            "|R12LEL4F3TSZUJ|   38782687|B000MMH2HU|     272402599| 2015-08-31|\n",
            "|R2L9XWD03072NI|   27138575|B00WJOATDS|     375070208| 2015-08-31|\n",
            "|R2K0U91HIACANO|   11838771|B00BOM2JNY|     639666785| 2015-08-31|\n",
            "|R29SP6MBT7MXG7|     535800|B00OD5GAFM|      38715442| 2015-08-31|\n",
            "|R31XREAAMATEPY|   23156579|B00CAHDC1K|      57088652| 2015-08-31|\n",
            "|R2116AVB87SO38|   48107879|B004NLHXLG|     114125984| 2015-08-31|\n",
            "|R3RDVBB6O0X3HW|   27260960|B00L7OANWI|     883962979| 2015-08-31|\n",
            "|R3LW5T149LKKQM|   39537314|B0085PPSIQ|     691479969| 2015-08-31|\n",
            "+--------------+-----------+----------+--------------+-----------+\n",
            "only showing top 20 rows\n",
            "\n"
          ],
          "name": "stdout"
        }
      ]
    },
    {
      "cell_type": "code",
      "metadata": {
        "id": "v_TpoYcaCEUN",
        "colab_type": "code",
        "outputId": "729c5527-68c5-4925-b603-df9e96c09ad6",
        "colab": {
          "base_uri": "https://localhost:8080/",
          "height": 459
        }
      },
      "source": [
        "# Create Products Table\n",
        "products_df_TMP = dropna_df.select([\"product_id\", \"product_title\"])\n",
        "products_clean_df = products_df_TMP.dropDuplicates([\"product_id\"])\n",
        "products_clean_df.show()"
      ],
      "execution_count": 0,
      "outputs": [
        {
          "output_type": "stream",
          "text": [
            "+----------+--------------------+\n",
            "|product_id|       product_title|\n",
            "+----------+--------------------+\n",
            "|1570340439|Compass & Map Nav...|\n",
            "|9879000633|Swordmaster - Uni...|\n",
            "|B00004RAN1|24x7x7 Pro Cage Trap|\n",
            "|B00005OU7P|Putt and Return P...|\n",
            "|B00005V3EN|Airzone Trampolin...|\n",
            "|B00008Z7M2|Koolatron 401619 ...|\n",
            "|B0000AAEMO|Seahawks Franklin...|\n",
            "|B0000AI0K1|Outdoor Cap Heavy...|\n",
            "|B0000ANGL1|NFL Men's New Yor...|\n",
            "|B0000ANHRR|Heatgear Loose Lo...|\n",
            "|B0000AU3AK|Everlast Genuine ...|\n",
            "|B0000AUTWD|Cubby 5011 Mini Mite|\n",
            "|B0000AVZBW|G- Lox  Deerskin ...|\n",
            "|B0000AXJT5|Pro Mex Professio...|\n",
            "|B0000AXNWO|   Ande Fluorocarbon|\n",
            "|B0000AXUET|Star brite Brush ...|\n",
            "|B0000AY199|DU-BRO Fishing Tr...|\n",
            "|B0000AYEE8|Attwood Stainiles...|\n",
            "|B0000AYGZ1|Attwood Stainless...|\n",
            "|B0000AZ8LS|Tacstar 4-Shot Re...|\n",
            "+----------+--------------------+\n",
            "only showing top 20 rows\n",
            "\n"
          ],
          "name": "stdout"
        }
      ]
    },
    {
      "cell_type": "code",
      "metadata": {
        "id": "_eJAsYMaLt85",
        "colab_type": "code",
        "outputId": "6131562c-91c3-4781-e6e8-30fdf34294eb",
        "colab": {
          "base_uri": "https://localhost:8080/",
          "height": 34
        }
      },
      "source": [
        "products_df_TMP.count()\n"
      ],
      "execution_count": 0,
      "outputs": [
        {
          "output_type": "execute_result",
          "data": {
            "text/plain": [
              "4848999"
            ]
          },
          "metadata": {
            "tags": []
          },
          "execution_count": 38
        }
      ]
    },
    {
      "cell_type": "code",
      "metadata": {
        "id": "X4G_-TgMMNad",
        "colab_type": "code",
        "outputId": "971129c0-0fd0-4a83-908b-4d9f19cfbcee",
        "colab": {
          "base_uri": "https://localhost:8080/",
          "height": 34
        }
      },
      "source": [
        "products_clean_df.count()"
      ],
      "execution_count": 0,
      "outputs": [
        {
          "output_type": "execute_result",
          "data": {
            "text/plain": [
              "1046060"
            ]
          },
          "metadata": {
            "tags": []
          },
          "execution_count": 39
        }
      ]
    },
    {
      "cell_type": "code",
      "metadata": {
        "id": "49muVJq2CEQW",
        "colab_type": "code",
        "outputId": "6bddfab4-d096-46b2-ded1-39a571c0b6f2",
        "colab": {
          "base_uri": "https://localhost:8080/",
          "height": 459
        }
      },
      "source": [
        "# Create customers Table\n",
        "customers_df= dropna_df.select([\"customer_id\"])\n",
        "customers_df_TMP = customers_df.groupBy('customer_id').count()\n",
        "\n",
        "customers_df_TMP.show()"
      ],
      "execution_count": 0,
      "outputs": [
        {
          "output_type": "stream",
          "text": [
            "+-----------+-----+\n",
            "|customer_id|count|\n",
            "+-----------+-----+\n",
            "|   45193257|   21|\n",
            "|   44934924|    1|\n",
            "|   11614909|    1|\n",
            "|   19186664|    1|\n",
            "|   50492011|    1|\n",
            "|   12988293|    3|\n",
            "|   22848554|    4|\n",
            "|   42126527|    1|\n",
            "|   48782599|    1|\n",
            "|   34146651|   10|\n",
            "|   43194960|    3|\n",
            "|   14127895|    1|\n",
            "|   30636778|   44|\n",
            "|   30274993|    1|\n",
            "|   28069251|    1|\n",
            "|   20545025|    5|\n",
            "|   28029004|    4|\n",
            "|   51290010|    1|\n",
            "|   37367363|    1|\n",
            "|    2583392|    7|\n",
            "+-----------+-----+\n",
            "only showing top 20 rows\n",
            "\n"
          ],
          "name": "stdout"
        }
      ]
    },
    {
      "cell_type": "code",
      "metadata": {
        "id": "9japKOIuh--E",
        "colab_type": "code",
        "outputId": "5ed83df5-dba2-4010-a45a-f3b4bd1e91b0",
        "colab": {
          "base_uri": "https://localhost:8080/",
          "height": 272
        }
      },
      "source": [
        "# Customers Table clean\n",
        "customers_CLEAN_df = customers_df_TMP.withColumnRenamed('count', 'customer_count')\n",
        "customers_CLEAN_df = customers_CLEAN_df.select([\"customer_id\", \"customer_count\"])\\\n",
        ".withColumn(\"customer_count\", customers_CLEAN_df[\"customer_count\"].cast(IntegerType()))\n",
        "\n",
        "customers_CLEAN_df = customers_CLEAN_df.select([\"customer_id\", \"customer_count\"])\\\n",
        ".withColumn(\"customer_id\", customers_CLEAN_df[\"customer_id\"].cast(IntegerType()))\n",
        "\n",
        "customers_CLEAN_df.printSchema()\n",
        "customers_CLEAN_df.show(5)"
      ],
      "execution_count": 0,
      "outputs": [
        {
          "output_type": "stream",
          "text": [
            "root\n",
            " |-- customer_id: integer (nullable = true)\n",
            " |-- customer_count: integer (nullable = false)\n",
            "\n",
            "+-----------+--------------+\n",
            "|customer_id|customer_count|\n",
            "+-----------+--------------+\n",
            "|   45193257|            21|\n",
            "|   44934924|             1|\n",
            "|   11614909|             1|\n",
            "|   19186664|             1|\n",
            "|   50492011|             1|\n",
            "+-----------+--------------+\n",
            "only showing top 5 rows\n",
            "\n"
          ],
          "name": "stdout"
        }
      ]
    },
    {
      "cell_type": "code",
      "metadata": {
        "id": "-0-aqsk1CEM2",
        "colab_type": "code",
        "outputId": "a7c50a93-8ec9-4d39-c111-63656a23d2cc",
        "colab": {
          "base_uri": "https://localhost:8080/",
          "height": 578
        }
      },
      "source": [
        " # Create Vine Table\n",
        "vine_df= dropna_df.select([\"review_id\", \"star_rating\", \"helpful_votes\", \"total_votes\", \"vine\"])\n",
        "\n",
        "vine_df_TMP1 = vine_df.select([\"review_id\", \"star_rating\", \"helpful_votes\", \"total_votes\", \"vine\"])\\\n",
        ".withColumn(\"star_rating\", vine_df[\"star_rating\"].cast(IntegerType()))\n",
        "\n",
        "vine_df_TMP2 = vine_df_TMP1.select([\"review_id\", \"star_rating\", \"helpful_votes\", \"total_votes\", \"vine\"])\\\n",
        ".withColumn(\"helpful_votes\", vine_df[\"helpful_votes\"].cast(IntegerType()))\n",
        "\n",
        "vine_CLEAN_df = vine_df_TMP2.select([\"review_id\", \"star_rating\", \"helpful_votes\", \"total_votes\", \"vine\"])\\\n",
        ".withColumn(\"total_votes\", vine_df[\"total_votes\"].cast(IntegerType()))\n",
        "\n",
        "vine_CLEAN_df.printSchema()\n",
        "vine_CLEAN_df.show()"
      ],
      "execution_count": 0,
      "outputs": [
        {
          "output_type": "stream",
          "text": [
            "root\n",
            " |-- review_id: string (nullable = true)\n",
            " |-- star_rating: integer (nullable = true)\n",
            " |-- helpful_votes: integer (nullable = true)\n",
            " |-- total_votes: integer (nullable = true)\n",
            " |-- vine: string (nullable = true)\n",
            "\n",
            "+--------------+-----------+-------------+-----------+----+\n",
            "|     review_id|star_rating|helpful_votes|total_votes|vine|\n",
            "+--------------+-----------+-------------+-----------+----+\n",
            "|R1WBPB8MDCCN8F|          5|            0|          0|   N|\n",
            "|R32M0YEWV77XG8|          5|            1|          1|   N|\n",
            "| RR8V7WR27NXJ5|          1|            0|          0|   N|\n",
            "|R1MHO5V9Z932AY|          5|            0|          0|   N|\n",
            "|R16PD71086BD2V|          5|            0|          1|   N|\n",
            "|R1Z8IFGWTRWXT6|          3|            0|          0|   N|\n",
            "|R3AUMSHAW73HWN|          4|            2|          3|   N|\n",
            "|R2KWDWFOHGX6FL|          5|            0|          0|   N|\n",
            "|R3H9543FWBWFBU|          5|            1|          1|   N|\n",
            "| RUANXOQ9W3OU5|          5|            0|          0|   N|\n",
            "|R31673RTGEZSW7|          5|            2|          2|   N|\n",
            "|R22OQLFSH42RCM|          5|            1|          1|   N|\n",
            "|R12LEL4F3TSZUJ|          5|            2|          2|   N|\n",
            "|R2L9XWD03072NI|          5|            1|          2|   N|\n",
            "|R2K0U91HIACANO|          5|            0|          0|   N|\n",
            "|R29SP6MBT7MXG7|          4|            3|          3|   N|\n",
            "|R31XREAAMATEPY|          5|            0|          0|   N|\n",
            "|R2116AVB87SO38|          5|            0|          0|   N|\n",
            "|R3RDVBB6O0X3HW|          5|            0|          0|   N|\n",
            "|R3LW5T149LKKQM|          4|            0|          0|   N|\n",
            "+--------------+-----------+-------------+-----------+----+\n",
            "only showing top 20 rows\n",
            "\n"
          ],
          "name": "stdout"
        }
      ]
    },
    {
      "cell_type": "code",
      "metadata": {
        "id": "x7TxXV-UCEJy",
        "colab_type": "code",
        "colab": {}
      },
      "source": [
        "# LOAD\n",
        "# Configure settings for RDS\n",
        "mode = \"append\"\n",
        "jdbc_url=\"jdbc:postgresql://jmerkel-bigdata-challenge.cg5lg3umcaun.us-west-1.rds.amazonaws.com:5432/mod16_challenge\"\n",
        "config = {\"user\":\"postgres\",\n",
        "          \"password\": \"nC_!3xeNdJibAuXUvk_.\",\n",
        "          \"driver\":\"org.postgresql.Driver\"}"
      ],
      "execution_count": 0,
      "outputs": []
    },
    {
      "cell_type": "code",
      "metadata": {
        "id": "5oLIgV_okic7",
        "colab_type": "code",
        "colab": {}
      },
      "source": [
        "# Write DataFrame to review_id table in RDS\n",
        "reviewID_clean_df.write.jdbc(url=jdbc_url, table='review_id_table', mode=mode, properties=config)"
      ],
      "execution_count": 0,
      "outputs": []
    },
    {
      "cell_type": "code",
      "metadata": {
        "id": "BDIazEo3kiVO",
        "colab_type": "code",
        "colab": {}
      },
      "source": [
        "# Write DataFrame to products table in RDS\n",
        "products_clean_df.write.jdbc(url=jdbc_url, table='products', mode=mode, properties=config)"
      ],
      "execution_count": 0,
      "outputs": []
    },
    {
      "cell_type": "code",
      "metadata": {
        "id": "YiNGUqcTkiLj",
        "colab_type": "code",
        "colab": {}
      },
      "source": [
        "# Write DataFrame to customers table in RDS\n",
        "customers_CLEAN_df.write.jdbc(url=jdbc_url, table='customers', mode=mode, properties=config)"
      ],
      "execution_count": 0,
      "outputs": []
    },
    {
      "cell_type": "code",
      "metadata": {
        "id": "f7ptghNakxe_",
        "colab_type": "code",
        "colab": {}
      },
      "source": [
        "# Write DataFrame to vine table in RDS\n",
        "vine_CLEAN_df.write.jdbc(url=jdbc_url, table='vine_table', mode=mode, properties=config)"
      ],
      "execution_count": 0,
      "outputs": []
    }
  ]
}